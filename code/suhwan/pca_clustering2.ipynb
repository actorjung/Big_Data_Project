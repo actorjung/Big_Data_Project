{
 "cells": [
  {
   "cell_type": "code",
   "execution_count": 1,
   "id": "93e04b77",
   "metadata": {},
   "outputs": [],
   "source": [
    "import pandas as pd\n",
    "import os"
   ]
  },
  {
   "cell_type": "code",
   "execution_count": 2,
   "id": "1474bedf",
   "metadata": {},
   "outputs": [],
   "source": [
    "#경로설정 읽어오는 경로, 저장하는 경로\n",
    "Path = os.path.join('Users','woosung','Gwang','Big_Data_Project','data')\n",
    "Path2 = 'D:/Big_Data_Project/data'"
   ]
  },
  {
   "cell_type": "code",
   "execution_count": 3,
   "id": "7bf3478c",
   "metadata": {},
   "outputs": [],
   "source": [
    "df=pd.read_csv(f'{Path2}/preprocessed_data.csv')"
   ]
  },
  {
   "cell_type": "code",
   "execution_count": 4,
   "id": "1471f43c",
   "metadata": {},
   "outputs": [],
   "source": [
    "#인구데이터를 면적으로 \n",
    "df.drop(labels=[\"정원수\",\"성비\"],axis=1,inplace=True)\n",
    "df.drop(14,axis=0,inplace=True)"
   ]
  },
  {
   "cell_type": "code",
   "execution_count": 5,
   "id": "16485187",
   "metadata": {},
   "outputs": [
    {
     "data": {
      "text/plain": [
       "Index(['행정동', '사고건수', '신호등수', '무인교통단속카메라수량', 'CCTV수량', '범죄율평균', '어린이보호구역', '계',\n",
       "       '인구수(남)', '인구수(여)', '지역(구성비)', '구성비(남)', '구성비(여)', '세대수', '세대당인구',\n",
       "       '대중교통승객수', '공영주차장수', '공영주차장주차면수', '인구밀도 (명/㎢)', '총생활인구수', '도로'],\n",
       "      dtype='object')"
      ]
     },
     "execution_count": 5,
     "metadata": {},
     "output_type": "execute_result"
    }
   ],
   "source": [
    "df.columns"
   ]
  },
  {
   "cell_type": "code",
   "execution_count": 6,
   "id": "2ae9e3c5",
   "metadata": {},
   "outputs": [],
   "source": [
    "import seaborn as sns \n",
    "import matplotlib.pyplot as plt\n",
    "from matplotlib import rc "
   ]
  },
  {
   "cell_type": "code",
   "execution_count": 7,
   "id": "c6ee795f",
   "metadata": {},
   "outputs": [],
   "source": [
    "rc('font', family='AppleGothic') ## 이 두 줄을 \n",
    "plt.rcParams['axes.unicode_minus'] = False  ## 추가해줍니다. "
   ]
  },
  {
   "cell_type": "code",
   "execution_count": 8,
   "id": "ee406645",
   "metadata": {},
   "outputs": [],
   "source": [
    "df = df.set_index(\"행정동\")"
   ]
  },
  {
   "cell_type": "code",
   "execution_count": 9,
   "id": "6a3b49af",
   "metadata": {},
   "outputs": [],
   "source": [
    "import numpy as np"
   ]
  },
  {
   "cell_type": "code",
   "execution_count": 10,
   "id": "cabf87c7",
   "metadata": {},
   "outputs": [
    {
     "data": {
      "text/html": [
       "<div>\n",
       "<style scoped>\n",
       "    .dataframe tbody tr th:only-of-type {\n",
       "        vertical-align: middle;\n",
       "    }\n",
       "\n",
       "    .dataframe tbody tr th {\n",
       "        vertical-align: top;\n",
       "    }\n",
       "\n",
       "    .dataframe thead th {\n",
       "        text-align: right;\n",
       "    }\n",
       "</style>\n",
       "<table border=\"1\" class=\"dataframe\">\n",
       "  <thead>\n",
       "    <tr style=\"text-align: right;\">\n",
       "      <th></th>\n",
       "      <th>사고건수</th>\n",
       "      <th>신호등수</th>\n",
       "      <th>무인교통단속카메라수량</th>\n",
       "      <th>CCTV수량</th>\n",
       "      <th>범죄율평균</th>\n",
       "      <th>어린이보호구역</th>\n",
       "      <th>계</th>\n",
       "      <th>인구수(남)</th>\n",
       "      <th>인구수(여)</th>\n",
       "      <th>지역(구성비)</th>\n",
       "      <th>구성비(남)</th>\n",
       "      <th>구성비(여)</th>\n",
       "      <th>세대수</th>\n",
       "      <th>세대당인구</th>\n",
       "      <th>대중교통승객수</th>\n",
       "      <th>공영주차장수</th>\n",
       "      <th>공영주차장주차면수</th>\n",
       "      <th>인구밀도 (명/㎢)</th>\n",
       "      <th>총생활인구수</th>\n",
       "      <th>도로</th>\n",
       "    </tr>\n",
       "    <tr>\n",
       "      <th>행정동</th>\n",
       "      <th></th>\n",
       "      <th></th>\n",
       "      <th></th>\n",
       "      <th></th>\n",
       "      <th></th>\n",
       "      <th></th>\n",
       "      <th></th>\n",
       "      <th></th>\n",
       "      <th></th>\n",
       "      <th></th>\n",
       "      <th></th>\n",
       "      <th></th>\n",
       "      <th></th>\n",
       "      <th></th>\n",
       "      <th></th>\n",
       "      <th></th>\n",
       "      <th></th>\n",
       "      <th></th>\n",
       "      <th></th>\n",
       "      <th></th>\n",
       "    </tr>\n",
       "  </thead>\n",
       "  <tbody>\n",
       "    <tr>\n",
       "      <th>광장동</th>\n",
       "      <td>284</td>\n",
       "      <td>8.0</td>\n",
       "      <td>3</td>\n",
       "      <td>264</td>\n",
       "      <td>3.6</td>\n",
       "      <td>9.0</td>\n",
       "      <td>34168</td>\n",
       "      <td>16524</td>\n",
       "      <td>17644</td>\n",
       "      <td>10.13</td>\n",
       "      <td>4.90</td>\n",
       "      <td>5.23</td>\n",
       "      <td>11814</td>\n",
       "      <td>2.89</td>\n",
       "      <td>551626.0</td>\n",
       "      <td>3.0</td>\n",
       "      <td>28.0</td>\n",
       "      <td>14377</td>\n",
       "      <td>36052.585890</td>\n",
       "      <td>244206.90</td>\n",
       "    </tr>\n",
       "    <tr>\n",
       "      <th>구의1동</th>\n",
       "      <td>204</td>\n",
       "      <td>3.0</td>\n",
       "      <td>2</td>\n",
       "      <td>281</td>\n",
       "      <td>1.4</td>\n",
       "      <td>3.0</td>\n",
       "      <td>23387</td>\n",
       "      <td>11143</td>\n",
       "      <td>12244</td>\n",
       "      <td>6.93</td>\n",
       "      <td>3.30</td>\n",
       "      <td>3.63</td>\n",
       "      <td>13077</td>\n",
       "      <td>1.79</td>\n",
       "      <td>897290.0</td>\n",
       "      <td>3.0</td>\n",
       "      <td>378.0</td>\n",
       "      <td>42945</td>\n",
       "      <td>24941.159033</td>\n",
       "      <td>97207.90</td>\n",
       "    </tr>\n",
       "    <tr>\n",
       "      <th>구의2동</th>\n",
       "      <td>204</td>\n",
       "      <td>4.0</td>\n",
       "      <td>3</td>\n",
       "      <td>330</td>\n",
       "      <td>1.4</td>\n",
       "      <td>9.0</td>\n",
       "      <td>26043</td>\n",
       "      <td>12511</td>\n",
       "      <td>13532</td>\n",
       "      <td>7.72</td>\n",
       "      <td>3.71</td>\n",
       "      <td>4.01</td>\n",
       "      <td>11517</td>\n",
       "      <td>2.26</td>\n",
       "      <td>665421.0</td>\n",
       "      <td>3.0</td>\n",
       "      <td>113.0</td>\n",
       "      <td>19117</td>\n",
       "      <td>21648.997242</td>\n",
       "      <td>240461.70</td>\n",
       "    </tr>\n",
       "    <tr>\n",
       "      <th>구의3동</th>\n",
       "      <td>204</td>\n",
       "      <td>16.0</td>\n",
       "      <td>8</td>\n",
       "      <td>275</td>\n",
       "      <td>3.6</td>\n",
       "      <td>6.0</td>\n",
       "      <td>28211</td>\n",
       "      <td>13309</td>\n",
       "      <td>14902</td>\n",
       "      <td>8.36</td>\n",
       "      <td>3.94</td>\n",
       "      <td>4.42</td>\n",
       "      <td>12079</td>\n",
       "      <td>2.34</td>\n",
       "      <td>1096968.0</td>\n",
       "      <td>6.0</td>\n",
       "      <td>524.0</td>\n",
       "      <td>27882</td>\n",
       "      <td>30926.011957</td>\n",
       "      <td>173951.00</td>\n",
       "    </tr>\n",
       "    <tr>\n",
       "      <th>군자동</th>\n",
       "      <td>273</td>\n",
       "      <td>5.0</td>\n",
       "      <td>6</td>\n",
       "      <td>308</td>\n",
       "      <td>3.0</td>\n",
       "      <td>8.0</td>\n",
       "      <td>19425</td>\n",
       "      <td>9603</td>\n",
       "      <td>9822</td>\n",
       "      <td>5.76</td>\n",
       "      <td>2.85</td>\n",
       "      <td>2.91</td>\n",
       "      <td>11400</td>\n",
       "      <td>1.70</td>\n",
       "      <td>256677.0</td>\n",
       "      <td>3.0</td>\n",
       "      <td>125.0</td>\n",
       "      <td>29086</td>\n",
       "      <td>22148.570882</td>\n",
       "      <td>170569.10</td>\n",
       "    </tr>\n",
       "    <tr>\n",
       "      <th>능동</th>\n",
       "      <td>134</td>\n",
       "      <td>0.0</td>\n",
       "      <td>4</td>\n",
       "      <td>209</td>\n",
       "      <td>3.0</td>\n",
       "      <td>2.0</td>\n",
       "      <td>11180</td>\n",
       "      <td>5134</td>\n",
       "      <td>6046</td>\n",
       "      <td>3.31</td>\n",
       "      <td>1.52</td>\n",
       "      <td>1.79</td>\n",
       "      <td>6406</td>\n",
       "      <td>1.75</td>\n",
       "      <td>1472471.0</td>\n",
       "      <td>3.0</td>\n",
       "      <td>179.0</td>\n",
       "      <td>10510</td>\n",
       "      <td>16506.987984</td>\n",
       "      <td>127697.30</td>\n",
       "    </tr>\n",
       "    <tr>\n",
       "      <th>자양1동</th>\n",
       "      <td>206</td>\n",
       "      <td>10.0</td>\n",
       "      <td>1</td>\n",
       "      <td>234</td>\n",
       "      <td>2.0</td>\n",
       "      <td>6.0</td>\n",
       "      <td>21862</td>\n",
       "      <td>10646</td>\n",
       "      <td>11216</td>\n",
       "      <td>6.48</td>\n",
       "      <td>3.16</td>\n",
       "      <td>3.32</td>\n",
       "      <td>11913</td>\n",
       "      <td>1.84</td>\n",
       "      <td>175664.0</td>\n",
       "      <td>1.0</td>\n",
       "      <td>24.0</td>\n",
       "      <td>39840</td>\n",
       "      <td>25014.111149</td>\n",
       "      <td>90290.50</td>\n",
       "    </tr>\n",
       "    <tr>\n",
       "      <th>자양2동</th>\n",
       "      <td>206</td>\n",
       "      <td>8.0</td>\n",
       "      <td>3</td>\n",
       "      <td>287</td>\n",
       "      <td>2.4</td>\n",
       "      <td>8.0</td>\n",
       "      <td>23946</td>\n",
       "      <td>11612</td>\n",
       "      <td>12334</td>\n",
       "      <td>7.10</td>\n",
       "      <td>3.44</td>\n",
       "      <td>3.66</td>\n",
       "      <td>10887</td>\n",
       "      <td>2.20</td>\n",
       "      <td>189395.0</td>\n",
       "      <td>2.0</td>\n",
       "      <td>570.0</td>\n",
       "      <td>14436</td>\n",
       "      <td>21081.833506</td>\n",
       "      <td>250035.20</td>\n",
       "    </tr>\n",
       "    <tr>\n",
       "      <th>자양3동</th>\n",
       "      <td>206</td>\n",
       "      <td>6.0</td>\n",
       "      <td>1</td>\n",
       "      <td>216</td>\n",
       "      <td>2.4</td>\n",
       "      <td>7.0</td>\n",
       "      <td>27553</td>\n",
       "      <td>13166</td>\n",
       "      <td>14387</td>\n",
       "      <td>8.17</td>\n",
       "      <td>3.90</td>\n",
       "      <td>4.26</td>\n",
       "      <td>11009</td>\n",
       "      <td>2.50</td>\n",
       "      <td>180485.0</td>\n",
       "      <td>3.0</td>\n",
       "      <td>196.0</td>\n",
       "      <td>23215</td>\n",
       "      <td>23498.113723</td>\n",
       "      <td>180581.00</td>\n",
       "    </tr>\n",
       "    <tr>\n",
       "      <th>자양4동</th>\n",
       "      <td>206</td>\n",
       "      <td>2.0</td>\n",
       "      <td>2</td>\n",
       "      <td>287</td>\n",
       "      <td>2.6</td>\n",
       "      <td>3.0</td>\n",
       "      <td>17926</td>\n",
       "      <td>8915</td>\n",
       "      <td>9011</td>\n",
       "      <td>5.31</td>\n",
       "      <td>2.64</td>\n",
       "      <td>2.67</td>\n",
       "      <td>10209</td>\n",
       "      <td>1.76</td>\n",
       "      <td>453510.0</td>\n",
       "      <td>3.0</td>\n",
       "      <td>225.0</td>\n",
       "      <td>18328</td>\n",
       "      <td>25092.450375</td>\n",
       "      <td>173635.60</td>\n",
       "    </tr>\n",
       "    <tr>\n",
       "      <th>중곡1동</th>\n",
       "      <td>139</td>\n",
       "      <td>6.0</td>\n",
       "      <td>4</td>\n",
       "      <td>198</td>\n",
       "      <td>1.4</td>\n",
       "      <td>0.0</td>\n",
       "      <td>15299</td>\n",
       "      <td>7322</td>\n",
       "      <td>7977</td>\n",
       "      <td>4.53</td>\n",
       "      <td>2.17</td>\n",
       "      <td>2.36</td>\n",
       "      <td>8504</td>\n",
       "      <td>1.80</td>\n",
       "      <td>123925.0</td>\n",
       "      <td>1.0</td>\n",
       "      <td>21.0</td>\n",
       "      <td>25263</td>\n",
       "      <td>15085.869391</td>\n",
       "      <td>88318.30</td>\n",
       "    </tr>\n",
       "    <tr>\n",
       "      <th>중곡2동</th>\n",
       "      <td>139</td>\n",
       "      <td>3.0</td>\n",
       "      <td>1</td>\n",
       "      <td>251</td>\n",
       "      <td>1.2</td>\n",
       "      <td>3.0</td>\n",
       "      <td>20999</td>\n",
       "      <td>9903</td>\n",
       "      <td>11096</td>\n",
       "      <td>6.22</td>\n",
       "      <td>2.93</td>\n",
       "      <td>3.29</td>\n",
       "      <td>10656</td>\n",
       "      <td>1.97</td>\n",
       "      <td>166033.0</td>\n",
       "      <td>4.0</td>\n",
       "      <td>179.0</td>\n",
       "      <td>38793</td>\n",
       "      <td>18021.119641</td>\n",
       "      <td>76542.50</td>\n",
       "    </tr>\n",
       "    <tr>\n",
       "      <th>중곡3동</th>\n",
       "      <td>139</td>\n",
       "      <td>5.0</td>\n",
       "      <td>1</td>\n",
       "      <td>288</td>\n",
       "      <td>1.8</td>\n",
       "      <td>10.0</td>\n",
       "      <td>15945</td>\n",
       "      <td>7897</td>\n",
       "      <td>8048</td>\n",
       "      <td>4.73</td>\n",
       "      <td>2.34</td>\n",
       "      <td>2.39</td>\n",
       "      <td>8513</td>\n",
       "      <td>1.87</td>\n",
       "      <td>454212.0</td>\n",
       "      <td>3.0</td>\n",
       "      <td>331.0</td>\n",
       "      <td>26962</td>\n",
       "      <td>15156.453470</td>\n",
       "      <td>88318.32</td>\n",
       "    </tr>\n",
       "    <tr>\n",
       "      <th>중곡4동</th>\n",
       "      <td>139</td>\n",
       "      <td>11.0</td>\n",
       "      <td>2</td>\n",
       "      <td>356</td>\n",
       "      <td>1.6</td>\n",
       "      <td>2.0</td>\n",
       "      <td>28035</td>\n",
       "      <td>13715</td>\n",
       "      <td>14320</td>\n",
       "      <td>8.31</td>\n",
       "      <td>4.06</td>\n",
       "      <td>4.24</td>\n",
       "      <td>13122</td>\n",
       "      <td>2.14</td>\n",
       "      <td>101465.0</td>\n",
       "      <td>9.0</td>\n",
       "      <td>211.0</td>\n",
       "      <td>12244</td>\n",
       "      <td>25392.536161</td>\n",
       "      <td>335609.60</td>\n",
       "    </tr>\n",
       "  </tbody>\n",
       "</table>\n",
       "</div>"
      ],
      "text/plain": [
       "      사고건수  신호등수  무인교통단속카메라수량  CCTV수량  범죄율평균  어린이보호구역      계  인구수(남)  인구수(여)  \\\n",
       "행정동                                                                            \n",
       "광장동    284   8.0            3     264    3.6      9.0  34168   16524   17644   \n",
       "구의1동   204   3.0            2     281    1.4      3.0  23387   11143   12244   \n",
       "구의2동   204   4.0            3     330    1.4      9.0  26043   12511   13532   \n",
       "구의3동   204  16.0            8     275    3.6      6.0  28211   13309   14902   \n",
       "군자동    273   5.0            6     308    3.0      8.0  19425    9603    9822   \n",
       "능동     134   0.0            4     209    3.0      2.0  11180    5134    6046   \n",
       "자양1동   206  10.0            1     234    2.0      6.0  21862   10646   11216   \n",
       "자양2동   206   8.0            3     287    2.4      8.0  23946   11612   12334   \n",
       "자양3동   206   6.0            1     216    2.4      7.0  27553   13166   14387   \n",
       "자양4동   206   2.0            2     287    2.6      3.0  17926    8915    9011   \n",
       "중곡1동   139   6.0            4     198    1.4      0.0  15299    7322    7977   \n",
       "중곡2동   139   3.0            1     251    1.2      3.0  20999    9903   11096   \n",
       "중곡3동   139   5.0            1     288    1.8     10.0  15945    7897    8048   \n",
       "중곡4동   139  11.0            2     356    1.6      2.0  28035   13715   14320   \n",
       "\n",
       "      지역(구성비)  구성비(남)  구성비(여)    세대수  세대당인구    대중교통승객수  공영주차장수  공영주차장주차면수  \\\n",
       "행정동                                                                         \n",
       "광장동     10.13    4.90    5.23  11814   2.89   551626.0     3.0       28.0   \n",
       "구의1동     6.93    3.30    3.63  13077   1.79   897290.0     3.0      378.0   \n",
       "구의2동     7.72    3.71    4.01  11517   2.26   665421.0     3.0      113.0   \n",
       "구의3동     8.36    3.94    4.42  12079   2.34  1096968.0     6.0      524.0   \n",
       "군자동      5.76    2.85    2.91  11400   1.70   256677.0     3.0      125.0   \n",
       "능동       3.31    1.52    1.79   6406   1.75  1472471.0     3.0      179.0   \n",
       "자양1동     6.48    3.16    3.32  11913   1.84   175664.0     1.0       24.0   \n",
       "자양2동     7.10    3.44    3.66  10887   2.20   189395.0     2.0      570.0   \n",
       "자양3동     8.17    3.90    4.26  11009   2.50   180485.0     3.0      196.0   \n",
       "자양4동     5.31    2.64    2.67  10209   1.76   453510.0     3.0      225.0   \n",
       "중곡1동     4.53    2.17    2.36   8504   1.80   123925.0     1.0       21.0   \n",
       "중곡2동     6.22    2.93    3.29  10656   1.97   166033.0     4.0      179.0   \n",
       "중곡3동     4.73    2.34    2.39   8513   1.87   454212.0     3.0      331.0   \n",
       "중곡4동     8.31    4.06    4.24  13122   2.14   101465.0     9.0      211.0   \n",
       "\n",
       "      인구밀도 (명/㎢)        총생활인구수         도로  \n",
       "행정동                                        \n",
       "광장동        14377  36052.585890  244206.90  \n",
       "구의1동       42945  24941.159033   97207.90  \n",
       "구의2동       19117  21648.997242  240461.70  \n",
       "구의3동       27882  30926.011957  173951.00  \n",
       "군자동        29086  22148.570882  170569.10  \n",
       "능동         10510  16506.987984  127697.30  \n",
       "자양1동       39840  25014.111149   90290.50  \n",
       "자양2동       14436  21081.833506  250035.20  \n",
       "자양3동       23215  23498.113723  180581.00  \n",
       "자양4동       18328  25092.450375  173635.60  \n",
       "중곡1동       25263  15085.869391   88318.30  \n",
       "중곡2동       38793  18021.119641   76542.50  \n",
       "중곡3동       26962  15156.453470   88318.32  \n",
       "중곡4동       12244  25392.536161  335609.60  "
      ]
     },
     "execution_count": 10,
     "metadata": {},
     "output_type": "execute_result"
    }
   ],
   "source": [
    "df"
   ]
  },
  {
   "cell_type": "markdown",
   "id": "2a95d661",
   "metadata": {},
   "source": [
    "***"
   ]
  },
  {
   "cell_type": "markdown",
   "id": "0cc26251",
   "metadata": {},
   "source": [
    "# 누적 설명 분산 비율"
   ]
  },
  {
   "cell_type": "code",
   "execution_count": 12,
   "id": "086b3c58",
   "metadata": {},
   "outputs": [
    {
     "data": {
      "image/png": "[encoded data removed]",
      "text/plain": [
       "<Figure size 432x288 with 1 Axes>"
      ]
     },
     "metadata": {
      "needs_background": "light"
     },
     "output_type": "display_data"
    }
   ],
   "source": [
    "from sklearn.decomposition import PCA\n",
    "from sklearn.preprocessing import StandardScaler\n",
    "\n",
    "# PCA 객체를 생성합니다.\n",
    "pca = PCA()\n",
    "\n",
    "# 주성분을 추출하기 전, 데이터를 StandardScaler를 사용하여 정규화합니다.\n",
    "X_scaled = StandardScaler().fit_transform(df)\n",
    "\n",
    "# 주성분 분석을 수행합니다.\n",
    "pca.fit(X_scaled)\n",
    "\n",
    "# 각 주성분이 설명하는 분산의 비율을 계산합니다.\n",
    "explained_variance_ratio = pca.explained_variance_ratio_\n",
    "\n",
    "# 누적 설명 분산을 계산합니다.\n",
    "cumulative_variance_ratio = np.cumsum(explained_variance_ratio)\n",
    "\n",
    "# 누적 설명 분산 비율을 그래프로 나타냅니다.\n",
    "plt.plot(cumulative_variance_ratio)\n",
    "plt.xlabel('Number of components')\n",
    "plt.ylabel('Cumulative explained variance ratio')\n",
    "plt.show()"
   ]
  },
  {
   "cell_type": "markdown",
   "id": "20326df0",
   "metadata": {},
   "source": [
    "***"
   ]
  },
  {
   "cell_type": "markdown",
   "id": "68a54b0b",
   "metadata": {},
   "source": [
    "# 주성분 분석, 주성분 변환"
   ]
  },
  {
   "cell_type": "code",
   "execution_count": 13,
   "id": "19d59703",
   "metadata": {},
   "outputs": [
    {
     "name": "stdout",
     "output_type": "stream",
     "text": [
      "Transformed data shape: (14, 4)\n",
      "Transformed data:\n",
      " [[ 6.11484415  0.9960195  -2.1903402  -1.67208233]\n",
      " [-0.15017025 -1.31531702 -0.2486589   2.23478981]\n",
      " [ 1.68839461 -0.56148673  0.3643483  -1.15183187]\n",
      " [ 3.70595813  2.88204891  0.61353547  2.80452124]\n",
      " [-0.52261714  1.01536187 -0.77980974  0.62339951]]\n",
      "Explained variance ratio: [0.49515722 0.12418328 0.10480406 0.07788003]\n"
     ]
    },
    {
     "data": {
      "image/png": "[encoded data removed]",
      "text/plain": [
       "<Figure size 432x288 with 1 Axes>"
      ]
     },
     "metadata": {
      "needs_background": "light"
     },
     "output_type": "display_data"
    }
   ],
   "source": [
    "import matplotlib.pyplot as plt\n",
    "\n",
    "# PCA 객체를 생성합니다.\n",
    "pca = PCA(n_components=4)\n",
    "\n",
    "# 주성분을 추출하기 전, 데이터를 StandardScaler를 사용하여 정규화합니다.\n",
    "X_scaled = StandardScaler().fit_transform(df)\n",
    "\n",
    "# 주성분 분석을 수행합니다.\n",
    "pca.fit(X_scaled)\n",
    "\n",
    "# 주성분 변환을 수행합니다.\n",
    "X_pca = pca.transform(X_scaled)\n",
    "\n",
    "# 변환된 데이터의 크기를 출력합니다.\n",
    "print('Transformed data shape:', X_pca.shape)\n",
    "\n",
    "# 변환된 데이터의 처음 5개 샘플을 출력합니다.\n",
    "print('Transformed data:\\n', X_pca[:5])\n",
    "\n",
    "# 설명된 분산의 비율을 확인합니다.\n",
    "explained_variance_ratio = pca.explained_variance_ratio_\n",
    "print('Explained variance ratio:', explained_variance_ratio)\n",
    "\n",
    "# 누적 설명 분산 비율을 계산합니다.\n",
    "cumulative_variance_ratio = np.cumsum(explained_variance_ratio)\n",
    "\n",
    "# 누적 설명 분산 비율을 그래프로 나타냅니다.\n",
    "plt.plot(cumulative_variance_ratio)\n",
    "plt.xlabel('Number of components')\n",
    "plt.ylabel('Cumulative explained variance ratio')\n",
    "plt.show()"
   ]
  },
  {
   "cell_type": "code",
   "execution_count": 14,
   "id": "e0c8ced7",
   "metadata": {},
   "outputs": [
    {
     "name": "stdout",
     "output_type": "stream",
     "text": [
      "[[ 0.19134183  0.20447152  0.04595085  0.14516721  0.11017474  0.14149074\n",
      "   0.31225352  0.31340074  0.31005654  0.31228055  0.31340228  0.3100961\n",
      "   0.25068974  0.26413242 -0.04159346  0.1397105   0.0449482  -0.0520633\n",
      "   0.27325338  0.22185778]\n",
      " [ 0.13793207  0.06052079  0.47576896 -0.06673221  0.52631678  0.07426175\n",
      "  -0.07764641 -0.08645303 -0.06919981 -0.07763193 -0.08643025 -0.06861494\n",
      "  -0.24002989  0.06851071  0.44629792  0.03739932  0.18232159 -0.32528044\n",
      "   0.12515023  0.09940915]\n",
      " [-0.38916387  0.09435897  0.03660446  0.40307259 -0.19115564 -0.23964779\n",
      "  -0.03669682 -0.0324325  -0.04051713 -0.03683886 -0.03403703 -0.04041245\n",
      "   0.04995641 -0.11419552  0.02014145  0.54015597  0.26517894 -0.26194961\n",
      "  -0.13501791  0.32985188]\n",
      " [ 0.01527086  0.29916742  0.30639766  0.02771221 -0.01261375 -0.12548288\n",
      "  -0.00785167 -0.02334594  0.00654184 -0.00820875 -0.02399452  0.00730519\n",
      "   0.29685778 -0.26040178  0.17393985  0.10307227  0.36400716  0.58703229\n",
      "   0.10479619 -0.33684446]]\n"
     ]
    }
   ],
   "source": [
    "print(pca.components_)"
   ]
  },
  {
   "attachments": {},
   "cell_type": "markdown",
   "id": "927543f6",
   "metadata": {},
   "source": [
    "pc1 : 인구수(남)(+),구성비(남)(+) -> 인구 관련 요인\n",
    "pc2 : 무인교통단속카메라수량, 범죄율 평균 -> 교통/안전 관련 요인\n",
    "pc3 : cctv수량, 공영주차장수 -> 교통/안전 관련 요인"
   ]
  },
  {
   "cell_type": "code",
   "execution_count": 15,
   "id": "17b8ef43",
   "metadata": {},
   "outputs": [
    {
     "name": "stdout",
     "output_type": "stream",
     "text": [
      "<class 'pandas.core.frame.DataFrame'>\n",
      "Index: 14 entries, 광장동 to 중곡4동\n",
      "Data columns (total 20 columns):\n",
      " #   Column       Non-Null Count  Dtype  \n",
      "---  ------       --------------  -----  \n",
      " 0   사고건수         14 non-null     int64  \n",
      " 1   신호등수         14 non-null     float64\n",
      " 2   무인교통단속카메라수량  14 non-null     int64  \n",
      " 3   CCTV수량       14 non-null     int64  \n",
      " 4   범죄율평균        14 non-null     float64\n",
      " 5   어린이보호구역      14 non-null     float64\n",
      " 6   계            14 non-null     int64  \n",
      " 7   인구수(남)       14 non-null     int64  \n",
      " 8   인구수(여)       14 non-null     int64  \n",
      " 9   지역(구성비)      14 non-null     float64\n",
      " 10  구성비(남)       14 non-null     float64\n",
      " 11  구성비(여)       14 non-null     float64\n",
      " 12  세대수          14 non-null     int64  \n",
      " 13  세대당인구        14 non-null     float64\n",
      " 14  대중교통승객수      14 non-null     float64\n",
      " 15  공영주차장수       14 non-null     float64\n",
      " 16  공영주차장주차면수    14 non-null     float64\n",
      " 17  인구밀도 (명/㎢)   14 non-null     int64  \n",
      " 18  총생활인구수       14 non-null     float64\n",
      " 19  도로           14 non-null     float64\n",
      "dtypes: float64(12), int64(8)\n",
      "memory usage: 2.3+ KB\n"
     ]
    }
   ],
   "source": [
    "df.info()"
   ]
  },
  {
   "cell_type": "markdown",
   "id": "9c97f486",
   "metadata": {},
   "source": [
    "정원수빼기전\n",
    "pca1 = 인구수(남)<양>,구성비(남)<양> -> 인구(남)관련 요인\n",
    "pca2 = 사고건수<양>, 어린이집정원수<음>/생활인구수(양) -> 교통\n",
    "pca3 = 범죄율평균<양>, 인구밀도<음> -> 범죄\n",
    "pca4 = cctv수량<양>,공영주차장수<양> -> 교통+범죄\n",
    "pca5 = 인구밀도<양>, 공영주차장면수<양> -> 교통\n",
    "pca6 = 어린이보호구역<음>,공영주차장면수<양> -> 교통\n",
    "정원수뺀후\n",
    "pca1 = 인구수(남)<양>,구성비(남)<양> -> 인구(남)관련 요인\n",
    "pca2 = 사고건수<양>,세대당인구<음> ->>>>>달라짐 \n",
    "pca3 = 범죄율평균<양>, 인구밀도<음>\n",
    "pca4 = cctv수량<양>,공영주차장수<양> -> 교통+범죄\n",
    "pca5 = pca5 = 인구밀도<양>, 공영주차장면수<양> -> 교통\n",
    "인구관련뺀후\n",
    "pca1 = 범죄율, 총생활인구수\n",
    "pca2 = 사고건수 공영주차장수, 공영주차장면수 \n",
    "pca3 = \n",
    "pca4 =\n",
    "pca5 ="
   ]
  },
  {
   "cell_type": "markdown",
   "id": "c8e605fe",
   "metadata": {},
   "source": [
    "***"
   ]
  },
  {
   "cell_type": "markdown",
   "id": "52ce936e",
   "metadata": {},
   "source": [
    "# 엘부우 포인트 실루엣 계수 계산"
   ]
  },
  {
   "cell_type": "code",
   "execution_count": 16,
   "id": "003c907c",
   "metadata": {},
   "outputs": [],
   "source": [
    "from sklearn.datasets import make_blobs\n",
    "from sklearn.metrics import silhouette_samples, silhouette_score\n",
    "from sklearn.cluster import KMeans"
   ]
  },
  {
   "cell_type": "code",
   "execution_count": 17,
   "id": "e47d6340",
   "metadata": {},
   "outputs": [
    {
     "name": "stderr",
     "output_type": "stream",
     "text": [
      "findfont: Font family ['AppleGothic'] not found. Falling back to DejaVu Sans.\n"
     ]
    },
    {
     "data": {
      "image/png": "[encoded data removed]",
      "text/plain": [
       "<Figure size 720x432 with 2 Axes>"
      ]
     },
     "metadata": {
      "needs_background": "light"
     },
     "output_type": "display_data"
    }
   ],
   "source": [
    "# 엘보우 포인트와 실루엣 계수를 저장할 리스트 초기화\n",
    "sse = []\n",
    "silhouette_coefficients = []\n",
    "\n",
    "# 클러스터링을 위한 k 값 범위 설정\n",
    "k_range = range(2, 7)\n",
    "\n",
    "for k in k_range:\n",
    "    kmeans = KMeans(n_clusters=k, random_state=42)\n",
    "    kmeans.fit(X_pca)\n",
    "    sse.append(kmeans.inertia_)\n",
    "    \n",
    "    score = silhouette_score(X_pca, kmeans.labels_)\n",
    "    silhouette_coefficients.append(score)\n",
    "\n",
    "# 엘보우 포인트 그래프 그리기\n",
    "fig, ax = plt.subplots(figsize=(10, 6))\n",
    "ax.plot(k_range, sse, 'bx-')\n",
    "ax.set_xlabel('Number of Clusters (k)')\n",
    "ax.set_ylabel('SSE')\n",
    "ax.set_title('Elbow Method')\n",
    "\n",
    "# 실루엣 그래프 그리기\n",
    "ax2 = ax.twinx()\n",
    "ax2.plot(k_range, silhouette_coefficients, 'ro-')\n",
    "ax2.set_ylabel('Silhouette Coefficient')\n",
    "ax2.set_ylim([-0.1, 1])\n",
    "\n",
    "plt.show()"
   ]
  },
  {
   "cell_type": "markdown",
   "id": "c2b3af91",
   "metadata": {},
   "source": [
    "***"
   ]
  },
  {
   "cell_type": "markdown",
   "id": "1aa2bf5a",
   "metadata": {},
   "source": [
    "# K-means"
   ]
  },
  {
   "cell_type": "markdown",
   "id": "3555e5d2",
   "metadata": {},
   "source": [
    "엘보우 포인터와 실루엣을 고려해서 n_clusters를 3으로 선정"
   ]
  },
  {
   "cell_type": "code",
   "execution_count": 18,
   "id": "a6f68da9",
   "metadata": {},
   "outputs": [
    {
     "data": {
      "image/png": "[encoded data removed]",
      "text/plain": [
       "<Figure size 432x288 with 1 Axes>"
      ]
     },
     "metadata": {
      "needs_background": "light"
     },
     "output_type": "display_data"
    }
   ],
   "source": [
    "from sklearn.decomposition import PCA\n",
    "from sklearn.preprocessing import StandardScaler\n",
    "from sklearn.cluster import KMeans\n",
    "import matplotlib.pyplot as plt\n",
    "import numpy as np\n",
    "\n",
    "# Create a PCA object.\n",
    "pca = PCA(n_components=2)\n",
    "\n",
    "# Normalize data using StandardScaler before extracting principal components.\n",
    "X_scaled = StandardScaler().fit_transform(df)\n",
    "\n",
    "# Perform principal component analysis.\n",
    "X_pca = pca.fit_transform(X_scaled)\n",
    "\n",
    "kmeans = KMeans(n_clusters=5, init='random', algorithm='auto')\n",
    "kmeans.fit(X_pca)\n",
    "\n",
    "# Check the cluster label for each data\n",
    "cluster_labels = kmeans.labels_\n",
    "\n",
    "# Visualize clustering results\n",
    "plt.scatter(X_pca[:, 0], X_pca[:, 1], c=cluster_labels)\n",
    "\n",
    "# Define the range for the grid\n",
    "x_min, x_max = X_pca[:, 0].min() - 1, X_pca[:, 0].max() + 1\n",
    "y_min, y_max = X_pca[:, 1].min() - 1, X_pca[:, 1].max() + 1\n",
    "\n",
    "# Create a meshgrid of points\n",
    "xx, yy = np.meshgrid(np.arange(x_min, x_max, 0.01), np.arange(y_min, y_max, 0.01))\n",
    "\n",
    "# Predict the cluster labels for each point on the grid\n",
    "Z = kmeans.predict(np.c_[xx.ravel(), yy.ravel()])\n",
    "Z = Z.reshape(xx.shape)\n",
    "\n",
    "# Plot the clustered data and the cluster boundaries\n",
    "plt.contourf(xx, yy, Z, alpha=0.5)\n",
    "plt.scatter(X_pca[:, 0], X_pca[:, 1], c=cluster_labels)\n",
    "# Display index value on scatter plot\n",
    "for i, point in enumerate(X_pca):\n",
    "    plt.annotate(str(i), xy=point)\n",
    "    \n",
    "plt.title('Clustered Data with Boundaries')\n",
    "plt.show()\n",
    "# 1 3 4 4 2"
   ]
  },
  {
   "cell_type": "code",
   "execution_count": 19,
   "id": "96eeaa6a",
   "metadata": {},
   "outputs": [
    {
     "name": "stdout",
     "output_type": "stream",
     "text": [
      "[[ 0.19134183  0.20447152  0.04595085  0.14516721  0.11017474  0.14149074\n",
      "   0.31225352  0.31340074  0.31005654  0.31228055  0.31340228  0.3100961\n",
      "   0.25068974  0.26413242 -0.04159346  0.1397105   0.0449482  -0.0520633\n",
      "   0.27325338  0.22185778]\n",
      " [ 0.13793207  0.06052079  0.47576896 -0.06673221  0.52631678  0.07426175\n",
      "  -0.07764641 -0.08645303 -0.06919981 -0.07763193 -0.08643025 -0.06861494\n",
      "  -0.24002989  0.06851071  0.44629792  0.03739932  0.18232159 -0.32528044\n",
      "   0.12515023  0.09940915]]\n"
     ]
    }
   ],
   "source": [
    "print(pca.components_)"
   ]
  },
  {
   "cell_type": "markdown",
   "id": "8546a3da",
   "metadata": {},
   "source": [
    "***"
   ]
  },
  {
   "cell_type": "markdown",
   "id": "e26d842d",
   "metadata": {},
   "source": [
    "# GMM"
   ]
  },
  {
   "cell_type": "code",
   "execution_count": 20,
   "id": "73971bfd",
   "metadata": {},
   "outputs": [
    {
     "name": "stderr",
     "output_type": "stream",
     "text": [
      "c:\\Users\\lg\\anaconda3\\lib\\site-packages\\sklearn\\cluster\\_kmeans.py:1036: UserWarning: KMeans is known to have a memory leak on Windows with MKL, when there are less chunks than available threads. You can avoid it by setting the environment variable OMP_NUM_THREADS=1.\n",
      "  warnings.warn(\n"
     ]
    },
    {
     "name": "stdout",
     "output_type": "stream",
     "text": [
      "AIC values: [1772.8618066293097, 896.8753649541112, 159.42566075246327, 353.00493314393407, 742.1849440193737, 933.2669710402465, 1053.3606326308332, 956.7584239594817, 1348.063889450621, 1671.8393928694977]\n",
      "BIC values: [1919.8449924408192, 1191.4807939067455, 601.6533328462222, 942.8548483788177, 1479.657102395382, 1818.3613725573796, 2086.077277289091, 2137.0973117588637, 2676.0250203911282, 3147.4227669511292]\n"
     ]
    }
   ],
   "source": [
    "from sklearn.mixture import GaussianMixture\n",
    "\n",
    "n_components_range = range(1, 11)\n",
    "aic_values = []\n",
    "bic_values = []\n",
    "for n_components in n_components_range:\n",
    "    model = GaussianMixture(n_components=n_components, random_state=0)\n",
    "    model.fit(df)  # X는 클러스터링할 데이터입니다.\n",
    "    aic = model.aic(df)\n",
    "    bic = model.bic(df)\n",
    "    aic_values.append(aic)\n",
    "    bic_values.append(bic)\n",
    "\n",
    "print(\"AIC values:\", aic_values)\n",
    "print(\"BIC values:\", bic_values)"
   ]
  },
  {
   "attachments": {},
   "cell_type": "markdown",
   "id": "e97179d8",
   "metadata": {},
   "source": [
    "k=3"
   ]
  },
  {
   "cell_type": "code",
   "execution_count": 21,
   "id": "9e2c1054",
   "metadata": {},
   "outputs": [
    {
     "name": "stderr",
     "output_type": "stream",
     "text": [
      "No artists with labels found to put in legend.  Note that artists whose label start with an underscore are ignored when legend() is called with no argument.\n"
     ]
    },
    {
     "data": {
      "image/png": "[encoded data removed]",
      "text/plain": [
       "<Figure size 432x288 with 1 Axes>"
      ]
     },
     "metadata": {
      "needs_background": "light"
     },
     "output_type": "display_data"
    }
   ],
   "source": [
    "# gmm 모델 인스턴스화\n",
    "gmm = GaussianMixture(n_components=3, random_state=42)\n",
    "\n",
    "# 모델 학습\n",
    "gmm.fit(X_pca)\n",
    "\n",
    "# 클러스터 예측\n",
    "centers = gmm.means_\n",
    "\n",
    "labels = gmm.predict(X_pca)\n",
    "\n",
    "pca = PCA(n_components=2)\n",
    "pca_result = pca.fit_transform(X_pca)\n",
    "\n",
    "colors = ['red', 'blue', 'green', 'orange', 'purple']\n",
    "\n",
    "for i in range(3):\n",
    "    plt.scatter(pca_result[labels == i, 0], pca_result[labels == i, 1], color=colors[i])\n",
    "plt.scatter(centers[:, 0], centers[:, 1], color='black', marker='x', s=200, linewidth=3)\n",
    "\n",
    "# Chart settings\n",
    "ax.set_title('KMedoids Clustering')\n",
    "ax.legend()\n",
    "plt.show()\n",
    "# 1 11 2"
   ]
  },
  {
   "cell_type": "markdown",
   "id": "12faf474",
   "metadata": {},
   "source": [
    "***"
   ]
  },
  {
   "cell_type": "markdown",
   "id": "80a6f897",
   "metadata": {},
   "source": [
    "# PAM기법"
   ]
  },
  {
   "cell_type": "code",
   "execution_count": 22,
   "id": "c1bfba23",
   "metadata": {},
   "outputs": [
    {
     "name": "stdout",
     "output_type": "stream",
     "text": [
      "^C\n",
      "Note: you may need to restart the kernel to use updated packages.\n"
     ]
    },
    {
     "name": "stdout",
     "output_type": "stream",
     "text": [
      "Requirement already satisfied: scikit-learn-extra in c:\\users\\lg\\anaconda3\\lib\\site-packages (0.3.0)\n",
      "Requirement already satisfied: scipy>=0.19.1 in c:\\users\\lg\\anaconda3\\lib\\site-packages (from scikit-learn-extra) (1.7.3)\n",
      "Requirement already satisfied: scikit-learn>=0.23.0 in c:\\users\\lg\\anaconda3\\lib\\site-packages (from scikit-learn-extra) (1.0.2)\n",
      "Requirement already satisfied: numpy>=1.13.3 in c:\\users\\lg\\anaconda3\\lib\\site-packages (from scikit-learn-extra) (1.21.5)\n",
      "Requirement already satisfied: threadpoolctl>=2.0.0 in c:\\users\\lg\\anaconda3\\lib\\site-packages (from scikit-learn>=0.23.0->scikit-learn-extra) (2.2.0)\n",
      "Requirement already satisfied: joblib>=0.11 in c:\\users\\lg\\anaconda3\\lib\\site-packages (from scikit-learn>=0.23.0->scikit-learn-extra) (1.1.0)\n"
     ]
    }
   ],
   "source": [
    "pip install scikit-learn-extra"
   ]
  },
  {
   "cell_type": "code",
   "execution_count": 23,
   "id": "2885364d",
   "metadata": {},
   "outputs": [],
   "source": [
    "from sklearn_extra.cluster import KMedoids\n",
    "from sklearn.metrics import silhouette_score\n",
    "import matplotlib.pyplot as plt\n",
    "import numpy as np"
   ]
  },
  {
   "cell_type": "code",
   "execution_count": 24,
   "id": "e924e6d6",
   "metadata": {},
   "outputs": [
    {
     "data": {
      "image/png": "[encoded data removed]",
      "text/plain": [
       "<Figure size 432x288 with 2 Axes>"
      ]
     },
     "metadata": {
      "needs_background": "light"
     },
     "output_type": "display_data"
    }
   ],
   "source": [
    "# k-medoids 알고리즘 적용\n",
    "elbow_scores = []\n",
    "silhouette_scores = []\n",
    "for n_clusters in range(2, 7):\n",
    "    kmedoids = KMedoids(n_clusters=n_clusters).fit(X_pca)\n",
    "    elbow_scores.append(kmedoids.inertia_)\n",
    "    silhouette_scores.append(silhouette_score(X_pca, kmedoids.labels_))\n",
    "\n",
    "# 엘보우 포인트와 실루엣 값을 그래프에 시각화\n",
    "fig, ax1 = plt.subplots()\n",
    "\n",
    "# 엘보우 포인트 그래프\n",
    "ax1.plot(range(2, 7), elbow_scores, 'o-', color='r')\n",
    "ax1.set_xlabel('Number of clusters')\n",
    "ax1.set_ylabel('Sum of squared distance', color='r')\n",
    "ax1.tick_params('y', colors='r')\n",
    "\n",
    "# 실루엣 값 그래프\n",
    "ax2 = ax1.twinx()\n",
    "ax2.plot(range(2, 7), silhouette_scores, 'o-', color='b')\n",
    "ax2.set_ylabel('Silhouette score', color='b')\n",
    "ax2.tick_params('y', colors='b')\n",
    "\n",
    "plt.title('Elbow Point and Silhouette Score')\n",
    "plt.show()"
   ]
  },
  {
   "cell_type": "markdown",
   "id": "68716a69",
   "metadata": {},
   "source": [
    "n_cluseters = 4"
   ]
  },
  {
   "cell_type": "code",
   "execution_count": 30,
   "id": "56f04803",
   "metadata": {},
   "outputs": [
    {
     "data": {
      "image/png": "[encoded data removed]",
      "text/plain": [
       "<Figure size 576x432 with 1 Axes>"
      ]
     },
     "metadata": {
      "needs_background": "light"
     },
     "output_type": "display_data"
    }
   ],
   "source": [
    "from scipy.spatial import ConvexHull\n",
    "\n",
    "# Create and train KMedoids models\n",
    "kmedoids = KMedoids(n_clusters=4, random_state=0)\n",
    "y_kmedoids = kmedoids.fit_predict(X_pca)\n",
    "\n",
    "# Define cluster colors\n",
    "colors = ['r', 'g', 'b', 'y']\n",
    "\n",
    "# Create subplots\n",
    "fig, ax = plt.subplots(figsize=(8, 6))\n",
    "\n",
    "# Plot each cluster with different color and label\n",
    "for i in range(4):\n",
    "    cluster_points = X_pca[y_kmedoids == i]\n",
    "    ax.scatter(cluster_points[:, 0], cluster_points[:, 1], color=colors[i], alpha=0.7,\n",
    "               label=f'Cluster {i+1}')\n",
    "    # Get indices of outermost points in the cluster\n",
    "    hull = ConvexHull(cluster_points)\n",
    "    outermost_points_idx = hull.vertices\n",
    "    # Plot lines connecting outermost points and fill interior space\n",
    "    n_points = len(outermost_points_idx)\n",
    "    \n",
    "    for j in range(n_points):\n",
    "        ax.plot([cluster_points[outermost_points_idx[j], 0], cluster_points[outermost_points_idx[(j+1)%n_points], 0]],\n",
    "                [cluster_points[outermost_points_idx[j], 1], cluster_points[outermost_points_idx[(j+1)%n_points], 1]], color=colors[i])\n",
    "    ax.fill(cluster_points[outermost_points_idx, 0], cluster_points[outermost_points_idx, 1], color=colors[i], alpha=0.2)\n",
    "\n",
    "# Plot Medoids as black markers\n",
    "medoids = kmedoids.cluster_centers_\n",
    "ax.scatter(medoids[:, 0], medoids[:, 1], marker='o', s=50,\n",
    "           linewidths=3, color='black', zorder=10, label='Medoids')\n",
    "\n",
    "\n",
    "# Add point indices to the plot\n",
    "for i, point in enumerate(X_pca):\n",
    "    ax.annotate(str(i), xy=point)\n",
    "\n",
    "# Set plot title and legend\n",
    "ax.set_title('KMedoids Clustering')\n",
    "ax.legend()\n",
    "\n",
    "# Show the plot\n",
    "plt.show()\n",
    "# 4 3 3 4"
   ]
  },
  {
   "cell_type": "markdown",
   "id": "c24cf51b",
   "metadata": {},
   "source": [
    "***"
   ]
  },
  {
   "cell_type": "code",
   "execution_count": null,
   "id": "1af8e5dc",
   "metadata": {},
   "outputs": [],
   "source": [
    "구의3동,자양1동,군자동 -> 후보군 선정"
   ]
  }
 ],
 "metadata": {
  "kernelspec": {
   "display_name": "Python 3 (ipykernel)",
   "language": "python",
   "name": "python3"
  },
  "language_info": {
   "codemirror_mode": {
    "name": "ipython",
    "version": 3
   },
   "file_extension": ".py",
   "mimetype": "text/x-python",
   "name": "python",
   "nbconvert_exporter": "python",
   "pygments_lexer": "ipython3",
   "version": "3.9.12"
  }
 },
 "nbformat": 4,
 "nbformat_minor": 5
}
