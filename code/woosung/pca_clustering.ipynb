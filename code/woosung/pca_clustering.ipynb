{
 "cells": [
  {
   "cell_type": "code",
   "execution_count": 102,
   "id": "93e04b77",
   "metadata": {},
   "outputs": [],
   "source": [
    "import pandas as pd\n",
    "import os"
   ]
  },
  {
   "cell_type": "code",
   "execution_count": 145,
   "id": "1474bedf",
   "metadata": {},
   "outputs": [],
   "source": [
    "#경로설정 읽어오는 경로, 저장하는 경로\n",
    "Path = os.path.join('Users','woosung','Gwang','Big_Data_Project','data')\n",
    "Path2 = 'D:/Big_Data_Project/data'"
   ]
  },
  {
   "cell_type": "code",
   "execution_count": 104,
   "id": "7bf3478c",
   "metadata": {},
   "outputs": [],
   "source": [
    "df=pd.read_csv(f'{Path2}/preprocessed_data.csv')"
   ]
  },
  {
   "cell_type": "code",
   "execution_count": 105,
   "id": "1471f43c",
   "metadata": {},
   "outputs": [],
   "source": [
    "#인구데이터를 면적으로 \n",
    "df.drop(labels=[\"정원수\",\"성비\"],axis=1,inplace=True)"
   ]
  },
  {
   "cell_type": "code",
   "execution_count": 106,
   "id": "16485187",
   "metadata": {},
   "outputs": [
    {
     "data": {
      "text/plain": [
       "Index(['행정동', '사고건수', '신호등수', '무인교통단속카메라수량', 'CCTV수량', '범죄율평균', '어린이보호구역', '계',\n",
       "       '인구수(남)', '인구수(여)', '지역(구성비)', '구성비(남)', '구성비(여)', '세대수', '세대당인구',\n",
       "       '대중교통승객수', '공영주차장수', '공영주차장주차면수', '인구밀도 (명/㎢)', '총생활인구수', '도로'],\n",
       "      dtype='object')"
      ]
     },
     "execution_count": 106,
     "metadata": {},
     "output_type": "execute_result"
    }
   ],
   "source": [
    "df.columns"
   ]
  },
  {
   "cell_type": "code",
   "execution_count": 107,
   "id": "2ae9e3c5",
   "metadata": {},
   "outputs": [],
   "source": [
    "import seaborn as sns \n",
    "import matplotlib.pyplot as plt\n",
    "from matplotlib import rc "
   ]
  },
  {
   "cell_type": "code",
   "execution_count": 108,
   "id": "c6ee795f",
   "metadata": {},
   "outputs": [],
   "source": [
    "rc('font', family='AppleGothic') ## 이 두 줄을 \n",
    "plt.rcParams['axes.unicode_minus'] = False  ## 추가해줍니다. "
   ]
  },
  {
   "cell_type": "code",
   "execution_count": 109,
   "id": "ee406645",
   "metadata": {},
   "outputs": [],
   "source": [
    "df = df.set_index(\"행정동\")"
   ]
  },
  {
   "cell_type": "code",
   "execution_count": 110,
   "id": "6a3b49af",
   "metadata": {},
   "outputs": [],
   "source": [
    "import numpy as np"
   ]
  },
  {
   "cell_type": "markdown",
   "id": "2a95d661",
   "metadata": {},
   "source": [
    "***"
   ]
  },
  {
   "cell_type": "markdown",
   "id": "0cc26251",
   "metadata": {},
   "source": [
    "# 누적 설명 분산 비율"
   ]
  },
  {
   "cell_type": "code",
   "execution_count": 111,
   "id": "086b3c58",
   "metadata": {},
   "outputs": [
    {
     "data": {
      "image/png": "[encoded data removed]",
      "text/plain": [
       "<Figure size 432x288 with 1 Axes>"
      ]
     },
     "metadata": {
      "needs_background": "light"
     },
     "output_type": "display_data"
    }
   ],
   "source": [
    "from sklearn.decomposition import PCA\n",
    "from sklearn.preprocessing import StandardScaler\n",
    "\n",
    "# PCA 객체를 생성합니다.\n",
    "pca = PCA()\n",
    "\n",
    "# 주성분을 추출하기 전, 데이터를 StandardScaler를 사용하여 정규화합니다.\n",
    "X_scaled = StandardScaler().fit_transform(df)\n",
    "\n",
    "# 주성분 분석을 수행합니다.\n",
    "pca.fit(X_scaled)\n",
    "\n",
    "# 각 주성분이 설명하는 분산의 비율을 계산합니다.\n",
    "explained_variance_ratio = pca.explained_variance_ratio_\n",
    "\n",
    "# 누적 설명 분산을 계산합니다.\n",
    "cumulative_variance_ratio = np.cumsum(explained_variance_ratio)\n",
    "\n",
    "# 누적 설명 분산 비율을 그래프로 나타냅니다.\n",
    "plt.plot(cumulative_variance_ratio)\n",
    "plt.xlabel('Number of components')\n",
    "plt.ylabel('Cumulative explained variance ratio')\n",
    "plt.show()"
   ]
  },
  {
   "cell_type": "markdown",
   "id": "20326df0",
   "metadata": {},
   "source": [
    "***"
   ]
  },
  {
   "cell_type": "markdown",
   "id": "68a54b0b",
   "metadata": {},
   "source": [
    "# 주성분 분석, 주성분 변환"
   ]
  },
  {
   "cell_type": "code",
   "execution_count": 112,
   "id": "19d59703",
   "metadata": {},
   "outputs": [
    {
     "name": "stdout",
     "output_type": "stream",
     "text": [
      "Transformed data shape: (15, 4)\n",
      "Transformed data:\n",
      " [[ 5.7102258  -0.45555568 -0.29440685 -2.31742441]\n",
      " [-0.38242081  0.40661199 -1.89935711  1.01984563]\n",
      " [ 1.64629199 -0.79593029 -0.16007437  0.61910421]\n",
      " [ 3.57426801  0.71014897  2.20874114 -1.05361191]\n",
      " [-0.8299472   1.19199335  0.47924218 -0.36709492]]\n",
      "Explained variance ratio: [0.44478351 0.15629806 0.10355078 0.08767081]\n"
     ]
    },
    {
     "data": {
      "image/png": "[encoded data removed]",
      "text/plain": [
       "<Figure size 432x288 with 1 Axes>"
      ]
     },
     "metadata": {
      "needs_background": "light"
     },
     "output_type": "display_data"
    }
   ],
   "source": [
    "import matplotlib.pyplot as plt\n",
    "\n",
    "# PCA 객체를 생성합니다.\n",
    "pca = PCA(n_components=4)\n",
    "\n",
    "# 주성분을 추출하기 전, 데이터를 StandardScaler를 사용하여 정규화합니다.\n",
    "X_scaled = StandardScaler().fit_transform(df)\n",
    "\n",
    "# 주성분 분석을 수행합니다.\n",
    "pca.fit(X_scaled)\n",
    "\n",
    "# 주성분 변환을 수행합니다.\n",
    "X_pca = pca.transform(X_scaled)\n",
    "\n",
    "# 변환된 데이터의 크기를 출력합니다.\n",
    "print('Transformed data shape:', X_pca.shape)\n",
    "\n",
    "# 변환된 데이터의 처음 5개 샘플을 출력합니다.\n",
    "print('Transformed data:\\n', X_pca[:5])\n",
    "\n",
    "# 설명된 분산의 비율을 확인합니다.\n",
    "explained_variance_ratio = pca.explained_variance_ratio_\n",
    "print('Explained variance ratio:', explained_variance_ratio)\n",
    "\n",
    "# 누적 설명 분산 비율을 계산합니다.\n",
    "cumulative_variance_ratio = np.cumsum(explained_variance_ratio)\n",
    "\n",
    "# 누적 설명 분산 비율을 그래프로 나타냅니다.\n",
    "plt.plot(cumulative_variance_ratio)\n",
    "plt.xlabel('Number of components')\n",
    "plt.ylabel('Cumulative explained variance ratio')\n",
    "plt.show()"
   ]
  },
  {
   "cell_type": "code",
   "execution_count": 113,
   "id": "e0c8ced7",
   "metadata": {},
   "outputs": [
    {
     "name": "stdout",
     "output_type": "stream",
     "text": [
      "[[ 0.14609532  0.19470839  0.05494995  0.16228749  0.12048697  0.13830029\n",
      "   0.32735837  0.32776704  0.3257351   0.32740079  0.32772053  0.32574958\n",
      "   0.21165774  0.21524664  0.00112573  0.15955977  0.04378895 -0.06455504\n",
      "   0.23899367  0.23779736]\n",
      " [ 0.44884448 -0.17853138  0.25706645  0.09518527  0.2785924  -0.09435589\n",
      "  -0.0757906  -0.08436626 -0.06756121 -0.07564226 -0.08435073 -0.0679733\n",
      "   0.31393157 -0.34183377  0.46793156  0.01971408 -0.04705404 -0.01073758\n",
      "   0.36049187 -0.05554941]\n",
      " [-0.1848876   0.15735469  0.38172541  0.11233578  0.30840132  0.00233851\n",
      "  -0.09481532 -0.09386962 -0.0953305  -0.09483524 -0.09455611 -0.09462969\n",
      "  -0.27047658  0.11260054  0.12471008  0.27912811  0.30713044 -0.49836214\n",
      "  -0.11213514  0.31505096]\n",
      " [-0.10588577 -0.073574   -0.19922441  0.49846508 -0.4307999  -0.292769\n",
      "  -0.02980314 -0.01851247 -0.04014514 -0.02991372 -0.01983635 -0.04051471\n",
      "   0.24072418 -0.27780445 -0.06162612  0.46937548  0.09416183  0.0027614\n",
      "  -0.04720121  0.21864611]]\n"
     ]
    }
   ],
   "source": [
    "print(pca.components_)"
   ]
  },
  {
   "cell_type": "code",
   "execution_count": 114,
   "id": "aca45db8",
   "metadata": {},
   "outputs": [
    {
     "ename": "SyntaxError",
     "evalue": "invalid syntax (3994935271.py, line 1)",
     "output_type": "error",
     "traceback": [
      "\u001b[1;36m  Input \u001b[1;32mIn [114]\u001b[1;36m\u001b[0m\n\u001b[1;33m    pc1 : 인구수(남)(+),구성비(남)(+) -> 인구 관련 요인\u001b[0m\n\u001b[1;37m                  ^\u001b[0m\n\u001b[1;31mSyntaxError\u001b[0m\u001b[1;31m:\u001b[0m invalid syntax\n"
     ]
    }
   ],
   "source": [
    "pc1 : 인구수(남)(+),구성비(남)(+) -> 인구 관련 요인\n",
    "pc2 : 대중교통승객수(+), 사고건수(+), 총생활인구수 -> 교통/사고 관련 요인\n",
    "pc3 : 무인교통단속카메라, 인구밀도 -> 교통 관련 요인\n",
    "pc4 : cctv수량, 공영주차장수 -> 안전/교통 관련 요인"
   ]
  },
  {
   "cell_type": "code",
   "execution_count": 115,
   "id": "903ee36e",
   "metadata": {},
   "outputs": [
    {
     "name": "stdout",
     "output_type": "stream",
     "text": [
      "<class 'pandas.core.frame.DataFrame'>\n",
      "Index: 15 entries, 광장동 to 화양동\n",
      "Data columns (total 20 columns):\n",
      " #   Column       Non-Null Count  Dtype  \n",
      "---  ------       --------------  -----  \n",
      " 0   사고건수         15 non-null     int64  \n",
      " 1   신호등수         15 non-null     float64\n",
      " 2   무인교통단속카메라수량  15 non-null     int64  \n",
      " 3   CCTV수량       15 non-null     int64  \n",
      " 4   범죄율평균        15 non-null     float64\n",
      " 5   어린이보호구역      15 non-null     float64\n",
      " 6   계            15 non-null     int64  \n",
      " 7   인구수(남)       15 non-null     int64  \n",
      " 8   인구수(여)       15 non-null     int64  \n",
      " 9   지역(구성비)      15 non-null     float64\n",
      " 10  구성비(남)       15 non-null     float64\n",
      " 11  구성비(여)       15 non-null     float64\n",
      " 12  세대수          15 non-null     int64  \n",
      " 13  세대당인구        15 non-null     float64\n",
      " 14  대중교통승객수      15 non-null     float64\n",
      " 15  공영주차장수       15 non-null     float64\n",
      " 16  공영주차장주차면수    15 non-null     float64\n",
      " 17  인구밀도 (명/㎢)   15 non-null     int64  \n",
      " 18  총생활인구수       15 non-null     float64\n",
      " 19  도로           15 non-null     float64\n",
      "dtypes: float64(12), int64(8)\n",
      "memory usage: 2.5+ KB\n"
     ]
    }
   ],
   "source": [
    "df.info()"
   ]
  },
  {
   "cell_type": "markdown",
   "id": "9c97f486",
   "metadata": {},
   "source": [
    "정원수빼기전\n",
    "pca1 = 인구수(남)<양>,구성비(남)<양> -> 인구(남)관련 요인\n",
    "pca2 = 사고건수<양>, 어린이집정원수<음>/생활인구수(양) -> 교통\n",
    "pca3 = 범죄율평균<양>, 인구밀도<음> -> 범죄\n",
    "pca4 = cctv수량<양>,공영주차장수<양> -> 교통+범죄\n",
    "pca5 = 인구밀도<양>, 공영주차장면수<양> -> 교통\n",
    "pca6 = 어린이보호구역<음>,공영주차장면수<양> -> 교통\n",
    "정원수뺀후\n",
    "pca1 = 인구수(남)<양>,구성비(남)<양> -> 인구(남)관련 요인\n",
    "pca2 = 사고건수<양>,세대당인구<음> ->>>>>달라짐 \n",
    "pca3 = 범죄율평균<양>, 인구밀도<음>\n",
    "pca4 = cctv수량<양>,공영주차장수<양> -> 교통+범죄\n",
    "pca5 = pca5 = 인구밀도<양>, 공영주차장면수<양> -> 교통\n",
    "인구관련뺀후\n",
    "pca1 = 범죄율, 총생활인구수\n",
    "pca2 = 사고건수 공영주차장수, 공영주차장면수 \n",
    "pca3 = \n",
    "pca4 =\n",
    "pca5 ="
   ]
  },
  {
   "cell_type": "markdown",
   "id": "c8e605fe",
   "metadata": {},
   "source": [
    "***"
   ]
  },
  {
   "cell_type": "markdown",
   "id": "52ce936e",
   "metadata": {},
   "source": [
    "# 엘부우 포인트 실루엣 계수 계산"
   ]
  },
  {
   "cell_type": "code",
   "execution_count": 116,
   "id": "003c907c",
   "metadata": {},
   "outputs": [],
   "source": [
    "from sklearn.datasets import make_blobs\n",
    "from sklearn.metrics import silhouette_samples, silhouette_score\n",
    "from sklearn.cluster import KMeans"
   ]
  },
  {
   "cell_type": "code",
   "execution_count": 117,
   "id": "e47d6340",
   "metadata": {},
   "outputs": [
    {
     "data": {
      "image/png": "[encoded data removed]",
      "text/plain": [
       "<Figure size 720x432 with 2 Axes>"
      ]
     },
     "metadata": {
      "needs_background": "light"
     },
     "output_type": "display_data"
    }
   ],
   "source": [
    "# 엘보우 포인트와 실루엣 계수를 저장할 리스트 초기화\n",
    "sse = []\n",
    "silhouette_coefficients = []\n",
    "\n",
    "# 클러스터링을 위한 k 값 범위 설정\n",
    "k_range = range(2, 7)\n",
    "\n",
    "for k in k_range:\n",
    "    kmeans = KMeans(n_clusters=k, random_state=42)\n",
    "    kmeans.fit(X_pca)\n",
    "    sse.append(kmeans.inertia_)\n",
    "    \n",
    "    score = silhouette_score(X_pca, kmeans.labels_)\n",
    "    silhouette_coefficients.append(score)\n",
    "\n",
    "# 엘보우 포인트 그래프 그리기\n",
    "fig, ax = plt.subplots(figsize=(10, 6))\n",
    "ax.plot(k_range, sse, 'bx-')\n",
    "ax.set_xlabel('Number of Clusters (k)')\n",
    "ax.set_ylabel('SSE')\n",
    "ax.set_title('Elbow Method')\n",
    "\n",
    "# 실루엣 그래프 그리기\n",
    "ax2 = ax.twinx()\n",
    "ax2.plot(k_range, silhouette_coefficients, 'ro-')\n",
    "ax2.set_ylabel('Silhouette Coefficient')\n",
    "ax2.set_ylim([-0.1, 1])\n",
    "\n",
    "plt.show()"
   ]
  },
  {
   "cell_type": "markdown",
   "id": "c2b3af91",
   "metadata": {},
   "source": [
    "***"
   ]
  },
  {
   "cell_type": "markdown",
   "id": "1aa2bf5a",
   "metadata": {},
   "source": [
    "# K-means"
   ]
  },
  {
   "cell_type": "markdown",
   "id": "3555e5d2",
   "metadata": {},
   "source": [
    "엘보우 포인터와 실루엣을 고려해서 n_clusters를 3으로 선정"
   ]
  },
  {
   "cell_type": "code",
   "execution_count": 118,
   "id": "ff64f641",
   "metadata": {},
   "outputs": [
    {
     "data": {
      "image/png": "[encoded data removed]",
      "text/plain": [
       "<Figure size 432x288 with 1 Axes>"
      ]
     },
     "metadata": {
      "needs_background": "light"
     },
     "output_type": "display_data"
    }
   ],
   "source": [
    "from sklearn.decomposition import PCA\n",
    "from sklearn.preprocessing import StandardScaler\n",
    "from sklearn.cluster import KMeans\n",
    "import matplotlib.pyplot as plt\n",
    "import numpy as np\n",
    "\n",
    "# Create a PCA object.\n",
    "pca = PCA(n_components=2)\n",
    "\n",
    "# Normalize data using StandardScaler before extracting principal components.\n",
    "X_scaled = StandardScaler().fit_transform(df)\n",
    "\n",
    "# Perform principal component analysis.\n",
    "X_pca = pca.fit_transform(X_scaled)\n",
    "\n",
    "kmeans = KMeans(n_clusters=3, init='random', algorithm='auto')\n",
    "kmeans.fit(X_pca)\n",
    "\n",
    "# Check the cluster label for each data\n",
    "cluster_labels = kmeans.labels_\n",
    "\n",
    "# Visualize clustering results\n",
    "plt.scatter(X_pca[:, 0], X_pca[:, 1], c=cluster_labels)\n",
    "\n",
    "# Define the range for the grid\n",
    "x_min, x_max = X_pca[:, 0].min() - 1, X_pca[:, 0].max() + 1\n",
    "y_min, y_max = X_pca[:, 1].min() - 1, X_pca[:, 1].max() + 1\n",
    "\n",
    "# Create a meshgrid of points\n",
    "xx, yy = np.meshgrid(np.arange(x_min, x_max, 0.01), np.arange(y_min, y_max, 0.01))\n",
    "\n",
    "# Predict the cluster labels for each point on the grid\n",
    "Z = kmeans.predict(np.c_[xx.ravel(), yy.ravel()])\n",
    "Z = Z.reshape(xx.shape)\n",
    "\n",
    "# Plot the clustered data and the cluster boundaries\n",
    "plt.contourf(xx, yy, Z, alpha=0.5)\n",
    "plt.scatter(X_pca[:, 0], X_pca[:, 1], c=cluster_labels)\n",
    "# Display index value on scatter plot\n",
    "for i, point in enumerate(X_pca):\n",
    "    plt.annotate(str(i), xy=point)\n",
    "    \n",
    "plt.title('Clustered Data with Boundaries')\n",
    "plt.show()\n",
    "# 6 1 6"
   ]
  },
  {
   "cell_type": "code",
   "execution_count": 119,
   "id": "96eeaa6a",
   "metadata": {},
   "outputs": [
    {
     "name": "stdout",
     "output_type": "stream",
     "text": [
      "[[ 0.14609532  0.19470839  0.05494995  0.16228749  0.12048697  0.13830029\n",
      "   0.32735837  0.32776704  0.3257351   0.32740079  0.32772053  0.32574958\n",
      "   0.21165774  0.21524664  0.00112573  0.15955977  0.04378895 -0.06455504\n",
      "   0.23899367  0.23779736]\n",
      " [ 0.44884448 -0.17853138  0.25706645  0.09518527  0.2785924  -0.09435589\n",
      "  -0.0757906  -0.08436626 -0.06756121 -0.07564226 -0.08435073 -0.0679733\n",
      "   0.31393157 -0.34183377  0.46793156  0.01971408 -0.04705404 -0.01073758\n",
      "   0.36049187 -0.05554941]]\n"
     ]
    }
   ],
   "source": [
    "print(pca.components_)"
   ]
  },
  {
   "cell_type": "markdown",
   "id": "8546a3da",
   "metadata": {},
   "source": [
    "***"
   ]
  },
  {
   "cell_type": "markdown",
   "id": "e26d842d",
   "metadata": {},
   "source": [
    "# GMM"
   ]
  },
  {
   "cell_type": "code",
   "execution_count": 120,
   "id": "73971bfd",
   "metadata": {},
   "outputs": [
    {
     "name": "stderr",
     "output_type": "stream",
     "text": [
      "c:\\Users\\lg\\anaconda3\\lib\\site-packages\\sklearn\\cluster\\_kmeans.py:1036: UserWarning: KMeans is known to have a memory leak on Windows with MKL, when there are less chunks than available threads. You can avoid it by setting the environment variable OMP_NUM_THREADS=1.\n",
      "  warnings.warn(\n"
     ]
    },
    {
     "name": "stdout",
     "output_type": "stream",
     "text": [
      "AIC values: [2119.8135510840175, 1141.782833508576, 733.7181129137061, 1120.4371278688632, 582.800164116705, 773.8821911375778, 1163.0622020130177, 918.9003476369599, 1186.5536549322524, 1577.8591204233917]\n",
      "BIC values: [2282.6650973375254, 1468.1939762166949, 1223.6888520764355, 1773.967463486203, 1399.8900961886554, 1754.5317196641388, 2307.2713269941887, 2226.669069072742, 2657.8819728226445, 3212.7470347683948]\n"
     ]
    }
   ],
   "source": [
    "from sklearn.mixture import GaussianMixture\n",
    "\n",
    "n_components_range = range(1, 11)\n",
    "aic_values = []\n",
    "bic_values = []\n",
    "for n_components in n_components_range:\n",
    "    model = GaussianMixture(n_components=n_components, random_state=0)\n",
    "    model.fit(df)  # X는 클러스터링할 데이터입니다.\n",
    "    aic = model.aic(df)\n",
    "    bic = model.bic(df)\n",
    "    aic_values.append(aic)\n",
    "    bic_values.append(bic)\n",
    "\n",
    "print(\"AIC values:\", aic_values)\n",
    "print(\"BIC values:\", bic_values)"
   ]
  },
  {
   "attachments": {},
   "cell_type": "markdown",
   "id": "e97179d8",
   "metadata": {},
   "source": [
    "k=3"
   ]
  },
  {
   "cell_type": "code",
   "execution_count": 128,
   "id": "9e2c1054",
   "metadata": {},
   "outputs": [
    {
     "data": {
      "image/png": "[encoded data removed]",
      "text/plain": [
       "<Figure size 432x288 with 1 Axes>"
      ]
     },
     "metadata": {
      "needs_background": "light"
     },
     "output_type": "display_data"
    }
   ],
   "source": [
    "# gmm 모델 인스턴스화\n",
    "gmm = GaussianMixture(n_components=3, random_state=42)\n",
    "\n",
    "# 모델 학습\n",
    "gmm.fit(X_pca)\n",
    "\n",
    "# 클러스터 예측\n",
    "centers = gmm.means_\n",
    "\n",
    "labels = gmm.predict(X_pca)\n",
    "\n",
    "pca = PCA(n_components=2)\n",
    "pca_result = pca.fit_transform(X_pca)\n",
    "\n",
    "colors = ['red', 'blue', 'green', 'orange', 'purple']\n",
    "\n",
    "for i in range(3):\n",
    "    plt.scatter(pca_result[labels == i, 0], pca_result[labels == i, 1], color=colors[i])\n",
    "plt.scatter(centers[:, 0], centers[:, 1], color='black', marker='x', s=200, linewidth=3)\n",
    "\n",
    "# Chart settings\n",
    "ax.set_title('KMedoids Clustering')\n",
    "ax.legend()\n",
    "plt.show()\n",
    "# 3 6 6"
   ]
  },
  {
   "cell_type": "markdown",
   "id": "12faf474",
   "metadata": {},
   "source": [
    "***"
   ]
  },
  {
   "cell_type": "markdown",
   "id": "80a6f897",
   "metadata": {},
   "source": [
    "# PAM기법"
   ]
  },
  {
   "cell_type": "code",
   "execution_count": 122,
   "id": "38e9abc6",
   "metadata": {},
   "outputs": [
    {
     "name": "stdout",
     "output_type": "stream",
     "text": [
      "Requirement already satisfied: scikit-learn-extra in c:\\users\\lg\\anaconda3\\lib\\site-packages (0.3.0)\n",
      "Requirement already satisfied: scikit-learn>=0.23.0 in c:\\users\\lg\\anaconda3\\lib\\site-packages (from scikit-learn-extra) (1.0.2)\n",
      "Requirement already satisfied: scipy>=0.19.1 in c:\\users\\lg\\anaconda3\\lib\\site-packages (from scikit-learn-extra) (1.7.3)\n",
      "Requirement already satisfied: numpy>=1.13.3 in c:\\users\\lg\\anaconda3\\lib\\site-packages (from scikit-learn-extra) (1.21.5)\n",
      "Requirement already satisfied: threadpoolctl>=2.0.0 in c:\\users\\lg\\anaconda3\\lib\\site-packages (from scikit-learn>=0.23.0->scikit-learn-extra) (2.2.0)\n",
      "Requirement already satisfied: joblib>=0.11 in c:\\users\\lg\\anaconda3\\lib\\site-packages (from scikit-learn>=0.23.0->scikit-learn-extra) (1.1.0)\n",
      "Note: you may need to restart the kernel to use updated packages.\n"
     ]
    }
   ],
   "source": [
    "%pip install scikit-learn-extra"
   ]
  },
  {
   "cell_type": "code",
   "execution_count": 123,
   "id": "2885364d",
   "metadata": {},
   "outputs": [],
   "source": [
    "from sklearn_extra.cluster import KMedoids\n",
    "from sklearn.metrics import silhouette_score\n",
    "import matplotlib.pyplot as plt\n",
    "import numpy as np"
   ]
  },
  {
   "cell_type": "code",
   "execution_count": 124,
   "id": "e924e6d6",
   "metadata": {},
   "outputs": [
    {
     "data": {
      "image/png": "[encoded data removed]",
      "text/plain": [
       "<Figure size 432x288 with 2 Axes>"
      ]
     },
     "metadata": {
      "needs_background": "light"
     },
     "output_type": "display_data"
    }
   ],
   "source": [
    "# k-medoids 알고리즘 적용\n",
    "elbow_scores = []\n",
    "silhouette_scores = []\n",
    "for n_clusters in range(2, 7):\n",
    "    kmedoids = KMedoids(n_clusters=n_clusters).fit(X_pca)\n",
    "    elbow_scores.append(kmedoids.inertia_)\n",
    "    silhouette_scores.append(silhouette_score(X_pca, kmedoids.labels_))\n",
    "\n",
    "# 엘보우 포인트와 실루엣 값을 그래프에 시각화\n",
    "fig, ax1 = plt.subplots()\n",
    "\n",
    "# 엘보우 포인트 그래프\n",
    "ax1.plot(range(2, 7), elbow_scores, 'o-', color='r')\n",
    "ax1.set_xlabel('Number of clusters')\n",
    "ax1.set_ylabel('Sum of squared distance', color='r')\n",
    "ax1.tick_params('y', colors='r')\n",
    "\n",
    "# 실루엣 값 그래프\n",
    "ax2 = ax1.twinx()\n",
    "ax2.plot(range(2, 7), silhouette_scores, 'o-', color='b')\n",
    "ax2.set_ylabel('Silhouette score', color='b')\n",
    "ax2.tick_params('y', colors='b')\n",
    "\n",
    "plt.title('Elbow Point and Silhouette Score')\n",
    "plt.show()"
   ]
  },
  {
   "cell_type": "code",
   "execution_count": 132,
   "id": "cd463fb1",
   "metadata": {},
   "outputs": [],
   "source": [
    "from scipy.spatial import ConvexHull"
   ]
  },
  {
   "cell_type": "markdown",
   "id": "68716a69",
   "metadata": {},
   "source": [
    "cl = 3"
   ]
  },
  {
   "cell_type": "code",
   "execution_count": 136,
   "id": "4a0f7488",
   "metadata": {},
   "outputs": [
    {
     "data": {
      "image/png": "[encoded data removed]",
      "text/plain": [
       "<Figure size 576x432 with 1 Axes>"
      ]
     },
     "metadata": {
      "needs_background": "light"
     },
     "output_type": "display_data"
    }
   ],
   "source": [
    "# Create and train KMedoids models\n",
    "kmedoids = KMedoids(n_clusters=3, random_state=0)\n",
    "y_kmedoids = kmedoids.fit_predict(X_pca)\n",
    "\n",
    "# Define cluster colors\n",
    "colors = ['r', 'g', 'b']\n",
    "\n",
    "# Create subplots\n",
    "fig, ax = plt.subplots(figsize=(8, 6))\n",
    "\n",
    "# Plot each cluster with different color and label\n",
    "for i in range(3):\n",
    "    cluster_points = X_pca[y_kmedoids == i]\n",
    "    ax.scatter(cluster_points[:, 0], cluster_points[:, 1], color=colors[i], alpha=0.7,\n",
    "               label=f'Cluster {i+1}')\n",
    "    # Get indices of outermost points in the cluster\n",
    "    hull = ConvexHull(cluster_points)\n",
    "    outermost_points_idx = hull.vertices\n",
    "    # Plot lines connecting outermost points and fill interior space\n",
    "    n_points = len(outermost_points_idx)\n",
    "    for j in range(n_points):\n",
    "        ax.plot([cluster_points[outermost_points_idx[j], 0], cluster_points[outermost_points_idx[(j+1)%n_points], 0]],\n",
    "                [cluster_points[outermost_points_idx[j], 1], cluster_points[outermost_points_idx[(j+1)%n_points], 1]], color=colors[i])\n",
    "    ax.fill(cluster_points[outermost_points_idx, 0], cluster_points[outermost_points_idx, 1], color=colors[i], alpha=0.2)\n",
    "\n",
    "# Plot Medoids as black markers\n",
    "medoids = kmedoids.cluster_centers_\n",
    "ax.scatter(medoids[:, 0], medoids[:, 1], marker='o', s=200,\n",
    "           linewidths=3, color='black', zorder=10, label='Medoids')\n",
    "\n",
    "\n",
    "# Add point indices to the plot\n",
    "for i, point in enumerate(X_pca):\n",
    "    ax.annotate(str(i), xy=point)\n",
    "\n",
    "# Set plot title and legend\n",
    "ax.set_title('KMedoids Clustering')\n",
    "ax.legend()\n",
    "\n",
    "# Show the plot\n",
    "plt.show()\n",
    "# 4 5 6"
   ]
  },
  {
   "cell_type": "markdown",
   "id": "c24cf51b",
   "metadata": {},
   "source": [
    "***"
   ]
  }
 ],
 "metadata": {
  "kernelspec": {
   "display_name": "Python 3 (ipykernel)",
   "language": "python",
   "name": "python3"
  },
  "language_info": {
   "codemirror_mode": {
    "name": "ipython",
    "version": 3
   },
   "file_extension": ".py",
   "mimetype": "text/x-python",
   "name": "python",
   "nbconvert_exporter": "python",
   "pygments_lexer": "ipython3",
   "version": "3.9.12"
  }
 },
 "nbformat": 4,
 "nbformat_minor": 5
}
