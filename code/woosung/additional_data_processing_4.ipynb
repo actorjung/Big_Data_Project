{
 "cells": [
  {
   "cell_type": "code",
   "execution_count": 1,
   "id": "5ee22e12",
   "metadata": {},
   "outputs": [],
   "source": [
    "import pandas as pd\n",
    "import os"
   ]
  },
  {
   "cell_type": "code",
   "execution_count": 2,
   "id": "ae769fa8",
   "metadata": {},
   "outputs": [],
   "source": [
    "#경로설정 읽어오는 경로, 저장하는 경로\n",
    "Path = os.path.join('Users','woosung','Gwang','Big_Data_Project','data','result')\n",
    "path_result = os.path.join('Users','woosung','Gwang','Big_Data_Project','data','result')"
   ]
  },
  {
   "cell_type": "code",
   "execution_count": null,
   "id": "a4e74d7f",
   "metadata": {},
   "outputs": [],
   "source": []
  },
  {
   "cell_type": "code",
   "execution_count": null,
   "id": "6dad8e40",
   "metadata": {},
   "outputs": [],
   "source": []
  }
 ],
 "metadata": {
  "kernelspec": {
   "display_name": "Python 3 (ipykernel)",
   "language": "python",
   "name": "python3"
  },
  "language_info": {
   "codemirror_mode": {
    "name": "ipython",
    "version": 3
   },
   "file_extension": ".py",
   "mimetype": "text/x-python",
   "name": "python",
   "nbconvert_exporter": "python",
   "pygments_lexer": "ipython3",
   "version": "3.11.2"
  }
 },
 "nbformat": 4,
 "nbformat_minor": 5
}
